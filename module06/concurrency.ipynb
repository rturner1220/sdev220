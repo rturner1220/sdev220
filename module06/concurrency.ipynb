{
 "cells": [
  {
   "cell_type": "markdown",
   "id": "ba2e01a9-f1dc-4ed0-ac17-51f6a4c27ec4",
   "metadata": {},
   "source": [
    "<center><h1>Module 6 - Things to Do</h1></center>"
   ]
  },
  {
   "cell_type": "markdown",
   "id": "0948a5c4-d8ec-41a3-ae9d-bfdce3f1a434",
   "metadata": {},
   "source": [
    "**13.1 Write the current date as a string to the text file `today.txt`.**"
   ]
  },
  {
   "cell_type": "markdown",
   "id": "41858e73-ff1e-4051-8995-9dbe3fcb64c8",
   "metadata": {},
   "source": [
    "from datetime import date\n",
    "\n",
    "# Get current date\n",
    "today = date.today()\n",
    "\n",
    "# Convert to string\n",
    "today_str = today.isoformat()\n",
    "\n",
    "# Write to file\n",
    "with open(\"today.txt\", \"w\") as file:\n",
    "    file.write(today_str)\n",
    "\n",
    "print(\"today.txt created with date:\", today_str)"
   ]
  },
  {
   "cell_type": "markdown",
   "id": "9a79685c-b55b-4a2d-9ce4-f4b0e25b58cf",
   "metadata": {},
   "source": [
    "**13.2 Read the text file today.txt into the string today_string.**"
   ]
  },
  {
   "cell_type": "code",
   "execution_count": 3,
   "id": "50fa4554-9649-4e93-bdf3-2e2d77188dba",
   "metadata": {},
   "outputs": [
    {
     "name": "stdout",
     "output_type": "stream",
     "text": [
      "2025-04-25\n"
     ]
    }
   ],
   "source": [
    "# Read from file\n",
    "with open(\"today.txt\", \"r\") as file:\n",
    "    today_string = file.read()\n",
    "\n",
    "# Show the result\n",
    "print(today_string)"
   ]
  },
  {
   "cell_type": "markdown",
   "id": "23f1df42-6ade-4d25-b952-3f0e9bb21eab",
   "metadata": {},
   "source": [
    "**13.3 Parse the date from today_string.**"
   ]
  },
  {
   "cell_type": "code",
   "execution_count": 4,
   "id": "75ae3fd7-a613-4f2b-9faa-b6098392d083",
   "metadata": {},
   "outputs": [
    {
     "name": "stdout",
     "output_type": "stream",
     "text": [
      "2025-04-25\n"
     ]
    }
   ],
   "source": [
    "from datetime import datetime\n",
    "\n",
    "# Parse the string back to a date object\n",
    "parsed_date = datetime.strptime(today_string, \"%Y-%m-%d\").date()\n",
    "\n",
    "# Show the parsed date\n",
    "print(parsed_date)"
   ]
  },
  {
   "cell_type": "markdown",
   "id": "2281430f-51b0-459b-ae4d-b11515d51261",
   "metadata": {},
   "source": [
    "**15.1 Use multiprocessing to create three separate processes. Make each one wait a random number of seconds between zero and one, print the current time, and then exit.**"
   ]
  },
  {
   "cell_type": "code",
   "execution_count": 8,
   "id": "688c2056-1472-4b67-ac72-b80928f8a982",
   "metadata": {},
   "outputs": [],
   "source": [
    "import multiprocessing\n",
    "import time\n",
    "import random\n",
    "from datetime import datetime\n",
    "\n",
    "def show_time(queue):\n",
    "    time.sleep(random.random())\n",
    "    message = f\"Process ID: {multiprocessing.current_process().pid}, Time: {datetime.now()}\"\n",
    "    queue.put(message)\n",
    "\n",
    "def run_processes():\n",
    "    multiprocessing.set_start_method(\"spawn\", force=True)\n",
    "\n",
    "    queue = multiprocessing.Queue()\n",
    "    processes = []\n",
    "\n",
    "    for _ in range(3):\n",
    "        p = multiprocessing.Process(target=show_time, args=(queue,))\n",
    "        processes.append(p)\n",
    "        p.start()\n",
    "\n",
    "    for p in processes:\n",
    "        p.join()\n",
    "\n",
    "    # Read and print all messages from the queue\n",
    "    while not queue.empty():\n",
    "        print(queue.get())\n",
    "\n",
    "run_processes()"
   ]
  }
 ],
 "metadata": {
  "kernelspec": {
   "display_name": "Python 3 (ipykernel)",
   "language": "python",
   "name": "python3"
  },
  "language_info": {
   "codemirror_mode": {
    "name": "ipython",
    "version": 3
   },
   "file_extension": ".py",
   "mimetype": "text/x-python",
   "name": "python",
   "nbconvert_exporter": "python",
   "pygments_lexer": "ipython3",
   "version": "3.12.7"
  }
 },
 "nbformat": 4,
 "nbformat_minor": 5
}
