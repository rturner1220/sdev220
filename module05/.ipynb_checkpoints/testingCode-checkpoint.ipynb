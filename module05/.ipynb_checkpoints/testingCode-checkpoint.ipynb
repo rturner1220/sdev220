{
 "cells": [
  {
   "cell_type": "markdown",
   "id": "e6631aca-f1ca-49ea-8133-4cda9f6ccc3c",
   "metadata": {},
   "source": [
    "<h2 style=\"text-align:center\"> Testing Your Code </h2>"
   ]
  },
  {
   "cell_type": "markdown",
   "id": "e0b66688-dd9a-4c2b-9502-1033d1e3b34d",
   "metadata": {},
   "source": [
    "**What is Manual Testing?**\n",
    "Manual testing is when I check the app manually, like running a script and checking if it works.<br><br>\n",
    "**What is Automated Testing?**\n",
    "Automated testing uses scripts to test code. I saves time and catches errors early.<br><br>\n",
    "***The difference between a Unit Test and an Integration Test*** is that a Unit Test checks a small, isolated part of the code (like a single function), while an Integration Test checks how multiple parts of the application work together.\n",
    "<br><br>\n",
    "**What Did I Learn?**\n",
    "* Unit tests help catch small issues early.\n",
    "* I used assert and saw test output in the terminal.\n",
    "* I learned that unittest is better for mutiple tests.\n",
    "* If one test fails, unittest shows where and why. <br><br>"
   ]
  },
  {
   "cell_type": "markdown",
   "id": "e7af0f56-a275-4d0b-bbba-389e398c5da1",
   "metadata": {},
   "source": [
    "<h2 style=\"text-align:center\">Writing Your First Test</h2>"
   ]
  },
  {
   "cell_type": "markdown",
   "id": "a98f8400-0ee2-407b-a37d-f987dc5146ad",
   "metadata": {},
   "source": [
    "In this step, I created a custom function called **my_sum()** inside a module named my_sum. It takes a list. tuple, or set and returns the total sum of the values.<br>\n",
    "Then I creates a file alled **test.py** to test this function using **unittest**.<br>\n",
    "In the test, I passed a list of integers **[1, 2, 3]** and checked that the result equals **6**. <br>\n",
    "I used **self.assertEqual(result, 6)** to compare the actual and expected values.<br>\n",
    "I ran the test in PyCharm and saw that it passed successfully. <br><br>\n",
    "This showed me how to:\n",
    "* Import my own module for testing\n",
    "* Write a test using **unittest.TestCase**\n",
    "* Use **.assertEqual()** to compare results<br><br>"
   ]
  },
  {
   "cell_type": "markdown",
   "id": "2e5bc9d9-4259-4c88-9612-71f27f3df55d",
   "metadata": {},
   "source": [
    "<h2 style=\"text-align:center\">Executing Your First Test</h2>\n"
   ]
  },
  {
   "cell_type": "markdown",
   "id": "c1014cb3-5f39-428b-8564-b696975a5321",
   "metadata": {},
   "source": [
    "In this step, I ran my test suite using **unittest**.<br>\n",
    "I added a second test to check if the **my_sum()** funtion could sum a list of fractions.<br>\n",
    "I passed **[1/4, 1/4, 2/5]** and expected the result to be **1**. But it failed -- the actuak result was **9/10**.<br>\n",
    "<br>\n",
    "I ran my tests from PyCharm, and the output showed me clearly what passed and what failed.<br>\n",
    "This showed me:\n",
    "* How test results are displayed in PyCharm’s test window\n",
    "* how Python shows failures with **AssertionError**\n",
    "* What the expected result was vs. actual result\n",
    "* That the output uses *F* for fail, *.* for pass<br>\n",
    "\n",
    "In this case, the second test failed because I expected the result to be 1, but the actual result was 9/10. <br>\n",
    "PyCharm even pointed out the mismatch like this:<br>\n",
    "**Expected :Fraction(9, 10)**<br>\n",
    "**Actual :1**"
   ]
  }
 ],
 "metadata": {
  "kernelspec": {
   "display_name": "Python 3 (ipykernel)",
   "language": "python",
   "name": "python3"
  },
  "language_info": {
   "codemirror_mode": {
    "name": "ipython",
    "version": 3
   },
   "file_extension": ".py",
   "mimetype": "text/x-python",
   "name": "python",
   "nbconvert_exporter": "python",
   "pygments_lexer": "ipython3",
   "version": "3.12.7"
  }
 },
 "nbformat": 4,
 "nbformat_minor": 5
}
