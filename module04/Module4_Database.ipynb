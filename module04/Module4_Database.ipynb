{
 "cells": [
  {
   "cell_type": "markdown",
   "id": "45017fa0-5bd0-46dd-b059-a5482cf75983",
   "metadata": {},
   "source": [
    "                                        Module 4 Programming Assignment - Modules and Databases\n",
    "Author: Rosa Turner    \n",
    "\n",
    "Date: 04/12/2025"
   ]
  },
  {
   "cell_type": "markdown",
   "id": "98f00913-2cca-4704-8a45-e361eb8fed00",
   "metadata": {},
   "source": [
    "11.1 Create a file called zoo.py. In it, define a function called hours() that prints the string 'Open 9-5 daily'. Then, use the interactive interpreter to import the zoo module and call its hours() function."
   ]
  },
  {
   "cell_type": "code",
   "execution_count": 12,
   "id": "ed6e01df-9907-41b5-ab45-bbc2d2380f1e",
   "metadata": {},
   "outputs": [
    {
     "name": "stdout",
     "output_type": "stream",
     "text": [
      "Open 9-5 daily\n"
     ]
    }
   ],
   "source": [
    "# Step 1: Create the zoo.py file with the hours() function\n",
    "with open(\"zoo.py\", \"w\") as file:\n",
    "    file.write(\"\"\"\n",
    "def hours():\n",
    "    print('Open 9-5 daily')\n",
    "\"\"\")\n",
    "\n",
    "# Import zoo and call the function\n",
    "import zoo\n",
    "zoo.hours()"
   ]
  },
  {
   "cell_type": "markdown",
   "id": "00cd1a9b-b319-45d3-bfe3-1b23f2f92266",
   "metadata": {},
   "source": [
    "11.2 In the interactive interpreter, import the zoo module as menagerie and call its hours() function."
   ]
  },
  {
   "cell_type": "code",
   "execution_count": 13,
   "id": "f0ec95b4-f746-4cca-a01d-569b72af5805",
   "metadata": {},
   "outputs": [
    {
     "name": "stdout",
     "output_type": "stream",
     "text": [
      "Open 9-5 daily\n"
     ]
    }
   ],
   "source": [
    "# Import the zoo module using an alias and call the function\n",
    "import zoo as menagerle\n",
    "menagerle.hours()"
   ]
  },
  {
   "cell_type": "markdown",
   "id": "c1e62982-6c59-4ba1-9928-fba6ff973236",
   "metadata": {},
   "source": [
    "16.8  Database Excercise\n",
    "1. Create books.db and insert the book data.\n",
    "2. Print tiles in titles in alphabetical order with sqlite3\n",
    "3. Use the sqlalchemy module to connect to the sqlite3 database books.db, select and print the title column from the book table in alphabetical order."
   ]
  },
  {
   "cell_type": "code",
   "execution_count": 19,
   "id": "f7fd4f63-18c8-4de3-94f8-552cb4438551",
   "metadata": {},
   "outputs": [],
   "source": [
    "import sqlite3\n",
    "\n",
    "# Connect to database\n",
    "conn = sqlite3.connect(\"books.db\")\n",
    "cursor = conn.cursor()\n",
    "\n",
    "# Create table\n",
    "cursor.execute(\"DROP TABLE IF EXISTS book\")\n",
    "cursor.execute(\"\"\"\n",
    "CREATE TABLE IF NOT EXISTS book (\n",
    "    title TEXT,\n",
    "    author TEXT,\n",
    "    year INTEGER\n",
    ")\n",
    "\"\"\")\n",
    "\n",
    "# Insert Data\n",
    "books = [\n",
    "    (\"The Weirdstone of Brisingamen\", \"Alan Garner\", 1960),\n",
    "    (\"Perdido Street Station\", \"China Miéville\", 2000),\n",
    "    (\"Thud!\", \"Terry Pratchett\", 2005),\n",
    "    (\"The Spellman Files\", \"Lisa Lutz\", 2007),\n",
    "    (\"Small Gods\", \"Terry Pratchett\", 1992)\n",
    "]\n",
    "\n",
    "cursor.executemany(\"INSERT INTO book (title, author, year) VALUES (?, ?, ?)\", books)\n",
    "conn.commit()\n",
    "conn.close()"
   ]
  },
  {
   "cell_type": "code",
   "execution_count": 20,
   "id": "b046b1b0-e9dd-43a7-a51e-cbf19bad59e9",
   "metadata": {},
   "outputs": [
    {
     "name": "stdout",
     "output_type": "stream",
     "text": [
      "Perdido Street Station\n",
      "Small Gods\n",
      "The Spellman Files\n",
      "The Weirdstone of Brisingamen\n",
      "Thud!\n"
     ]
    }
   ],
   "source": [
    "conn = sqlite3.connect(\"books.db\")\n",
    "cursor = conn.cursor()\n",
    "\n",
    "cursor.execute(\"SELECT title FROM book ORDER BY title\")\n",
    "for row in cursor.fetchall():\n",
    "    print(row[0])\n",
    "\n",
    "conn.close()"
   ]
  },
  {
   "cell_type": "code",
   "execution_count": 23,
   "id": "1a666f5f-358c-424d-8734-98f4deee9b2c",
   "metadata": {},
   "outputs": [
    {
     "name": "stdout",
     "output_type": "stream",
     "text": [
      "Perdido Street Station\n",
      "Small Gods\n",
      "The Spellman Files\n",
      "The Weirdstone of Brisingamen\n",
      "Thud!\n"
     ]
    }
   ],
   "source": [
    "from sqlalchemy import create_engine, text\n",
    "\n",
    "# Connect to the SQLite database\n",
    "engine = create_engine('sqlite:///books.db')\n",
    "\n",
    "# Run the query and print results\n",
    "with engine.connect() as conn:\n",
    "    result = conn.execute(text(\"SELECT title FROM book ORDER BY title\"))\n",
    "    for row in result:\n",
    "        print(row[0])"
   ]
  }
 ],
 "metadata": {
  "kernelspec": {
   "display_name": "Python 3 (ipykernel)",
   "language": "python",
   "name": "python3"
  },
  "language_info": {
   "codemirror_mode": {
    "name": "ipython",
    "version": 3
   },
   "file_extension": ".py",
   "mimetype": "text/x-python",
   "name": "python",
   "nbconvert_exporter": "python",
   "pygments_lexer": "ipython3",
   "version": "3.12.7"
  }
 },
 "nbformat": 4,
 "nbformat_minor": 5
}
